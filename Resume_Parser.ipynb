{
 "cells": [
  {
   "cell_type": "code",
   "execution_count": null,
   "metadata": {},
   "outputs": [],
   "source": [
    "%pip install spacy_transformers"
   ]
  },
  {
   "cell_type": "code",
   "execution_count": null,
   "metadata": {},
   "outputs": [],
   "source": [
    "%pip install -U spacy"
   ]
  },
  {
   "cell_type": "code",
   "execution_count": 1,
   "metadata": {},
   "outputs": [],
   "source": [
    "import spacy\n",
    "from spacy.tokens import DocBin\n",
    "from tqdm import tqdm"
   ]
  },
  {
   "cell_type": "code",
   "execution_count": 6,
   "metadata": {},
   "outputs": [
    {
     "data": {
      "text/plain": [
       "'3.6.1'"
      ]
     },
     "execution_count": 6,
     "metadata": {},
     "output_type": "execute_result"
    }
   ],
   "source": [
    "spacy.__version__"
   ]
  },
  {
   "cell_type": "code",
   "execution_count": 10,
   "metadata": {},
   "outputs": [
    {
     "name": "stderr",
     "output_type": "stream",
     "text": [
      "'nvidia-smi' is not recognized as an internal or external command,\n",
      "operable program or batch file.\n"
     ]
    }
   ],
   "source": [
    "!nvidia-smi"
   ]
  },
  {
   "cell_type": "code",
   "execution_count": 11,
   "metadata": {},
   "outputs": [
    {
     "name": "stderr",
     "output_type": "stream",
     "text": [
      "'nvcc' is not recognized as an internal or external command,\n",
      "operable program or batch file.\n"
     ]
    }
   ],
   "source": [
    "!nvcc --version"
   ]
  },
  {
   "cell_type": "code",
   "execution_count": 2,
   "metadata": {},
   "outputs": [],
   "source": [
    "# Load the annotated data from a JSON file\n",
    "import json\n",
    "cv_data = json.load(open(\"./CV-Parsing-Spacy3/data/training/train_data.json\"))"
   ]
  },
  {
   "cell_type": "code",
   "execution_count": 3,
   "metadata": {},
   "outputs": [
    {
     "data": {
      "text/plain": [
       "200"
      ]
     },
     "execution_count": 3,
     "metadata": {},
     "output_type": "execute_result"
    }
   ],
   "source": [
    "len(cv_data)"
   ]
  },
  {
   "cell_type": "code",
   "execution_count": null,
   "metadata": {},
   "outputs": [],
   "source": [
    "cv_data[1]"
   ]
  },
  {
   "cell_type": "code",
   "execution_count": 4,
   "metadata": {},
   "outputs": [
    {
     "name": "stdout",
     "output_type": "stream",
     "text": [
      "\u001b[38;5;2m✔ Auto-filled config with all values\u001b[0m\n",
      "\u001b[38;5;2m✔ Saved config\u001b[0m\n",
      "CV-Parsing-Spacy3\\data\\training\\config.cfg\n",
      "You can now add your data and train your pipeline:\n",
      "python -m spacy train config.cfg --paths.train ./train.spacy --paths.dev ./dev.spacy\n"
     ]
    }
   ],
   "source": [
    "!python -m spacy init fill-config CV-Parsing-Spacy3/data/training/base_config.cfg CV-Parsing-Spacy3/data/training/config.cfg"
   ]
  },
  {
   "cell_type": "code",
   "execution_count": 5,
   "metadata": {},
   "outputs": [],
   "source": [
    "# Define a function to create spaCy DocBin objects from the annotated data\n",
    "def get_spacy_doc(file, data):\n",
    "  # Create a blank spaCy pipeline\n",
    "  nlp = spacy.blank('en')\n",
    "  db = DocBin()\n",
    "\n",
    "  # Iterate through the data\n",
    "  for text, annot in tqdm(data):\n",
    "    doc = nlp.make_doc(text)\n",
    "    annot = annot['entities']\n",
    "\n",
    "    ents = []\n",
    "    entity_indices = []\n",
    "\n",
    "    # Extract entities from the annotations\n",
    "    for start, end, label in annot:\n",
    "      skip_entity = False\n",
    "      for idx in range(start, end):\n",
    "        if idx in entity_indices:\n",
    "          skip_entity = True   # if entities are overlapping\n",
    "          break\n",
    "      if skip_entity:\n",
    "        continue\n",
    "\n",
    "      entity_indices = entity_indices + list(range(start, end))\n",
    "\n",
    "      try:\n",
    "        span = doc.char_span(start, end, label=label, alignment_mode='strict')\n",
    "      except:\n",
    "        continue\n",
    "\n",
    "      if span is None:\n",
    "        # Log errors for annotations that couldn't be processed\n",
    "        err_data = str([start, end]) + \"    \" + str(text) + \"\\n\"\n",
    "        file.write(err_data)\n",
    "      else:\n",
    "        ents.append(span)\n",
    "\n",
    "    try:\n",
    "        doc.ents = ents\n",
    "        db.add(doc)\n",
    "    except:\n",
    "        pass\n",
    "\n",
    "  return db\n"
   ]
  },
  {
   "cell_type": "code",
   "execution_count": null,
   "metadata": {},
   "outputs": [],
   "source": [
    "%pip install scikit-learn"
   ]
  },
  {
   "cell_type": "code",
   "execution_count": 6,
   "metadata": {},
   "outputs": [],
   "source": [
    "# Split the annotated data into training and testing sets\n",
    "from sklearn.model_selection import train_test_split\n",
    "train, test = train_test_split(cv_data, test_size=0.2)"
   ]
  },
  {
   "cell_type": "code",
   "execution_count": 7,
   "metadata": {},
   "outputs": [
    {
     "data": {
      "text/plain": [
       "(160, 40)"
      ]
     },
     "execution_count": 7,
     "metadata": {},
     "output_type": "execute_result"
    }
   ],
   "source": [
    "# Display the number of items in the training and testing sets\n",
    "len(train), len(test)"
   ]
  },
  {
   "cell_type": "code",
   "execution_count": 8,
   "metadata": {},
   "outputs": [
    {
     "name": "stderr",
     "output_type": "stream",
     "text": [
      "100%|██████████| 160/160 [00:01<00:00, 88.16it/s]\n",
      "100%|██████████| 40/40 [00:00<00:00, 85.29it/s] \n"
     ]
    }
   ],
   "source": [
    "# Open a file to log errors during annotation processing\n",
    "file = open('./CV-Parsing-Spacy3/data/model_data/error_file.txt','w', encoding='utf-8')\n",
    "\n",
    "# Create spaCy DocBin objects for training and testing data\n",
    "db = get_spacy_doc(file, train)\n",
    "db.to_disk('./CV-Parsing-Spacy3/data/model_data/train_data.spacy')\n",
    "\n",
    "db = get_spacy_doc(file, test)\n",
    "db.to_disk('./CV-Parsing-Spacy3/data/model_data/test_data.spacy')\n",
    "\n",
    "# Close the error log file\n",
    "file.close()"
   ]
  },
  {
   "cell_type": "code",
   "execution_count": 9,
   "metadata": {},
   "outputs": [
    {
     "data": {
      "text/plain": [
       "40"
      ]
     },
     "execution_count": 9,
     "metadata": {},
     "output_type": "execute_result"
    }
   ],
   "source": [
    "len(db.tokens)"
   ]
  },
  {
   "cell_type": "code",
   "execution_count": null,
   "metadata": {},
   "outputs": [],
   "source": [
    "%pip uninstall cupy-cuda12x"
   ]
  },
  {
   "cell_type": "code",
   "execution_count": 5,
   "metadata": {},
   "outputs": [
    {
     "name": "stdout",
     "output_type": "stream",
     "text": [
      "altair==5.1.1\n",
      "altgraph==0.17.3\n",
      "annotated-types==0.5.0\n",
      "anyio==3.7.1\n",
      "argon2-cffi==21.3.0\n",
      "argon2-cffi-bindings==21.2.0\n",
      "arrow==1.2.3\n",
      "asttokens==2.2.1\n",
      "async-lru==2.0.3\n",
      "attrs==23.1.0\n",
      "Babel==2.12.1\n",
      "backcall==0.2.0\n",
      "beautifulsoup4==4.12.2\n",
      "bleach==6.0.0\n",
      "blinker==1.6.2\n",
      "blis==0.7.11\n",
      "cachelib==0.10.2\n",
      "cachetools==5.3.1\n",
      "catalogue==2.0.9\n",
      "catboost==1.2.2\n",
      "certifi==2023.7.22\n",
      "cffi==1.15.1\n",
      "charset-normalizer==3.2.0\n",
      "click==8.1.7\n",
      "colorama==0.4.6\n",
      "comm==0.1.3\n",
      "confection==0.1.3\n",
      "contourpy==1.1.1\n",
      "cycler==0.11.0\n",
      "cymem==2.0.8\n",
      "debugpy==1.6.7\n",
      "decorator==5.1.1\n",
      "defusedxml==0.7.1\n",
      "executing==1.2.0\n",
      "fastjsonschema==2.18.0\n",
      "fastrlock==0.8.2\n",
      "filelock==3.12.4\n",
      "Flask==2.3.3\n",
      "Flask-Cors==4.0.0\n",
      "Flask-Session==0.5.0\n",
      "fonttools==4.42.1\n",
      "fqdn==1.5.1\n",
      "fsspec==2023.9.2\n",
      "future==0.18.3\n",
      "gitdb==4.0.10\n",
      "GitPython==3.1.36\n",
      "graphviz==0.20.1\n",
      "huggingface-hub==0.17.2\n",
      "idna==3.4\n",
      "importlib-metadata==6.8.0\n",
      "ipykernel==6.25.0\n",
      "ipython==8.14.0\n",
      "ipython-genutils==0.2.0\n",
      "ipywidgets==8.0.7\n",
      "isoduration==20.11.0\n",
      "itsdangerous==2.1.2\n",
      "jedi==0.18.2\n",
      "Jinja2==3.1.2\n",
      "joblib==1.3.2\n",
      "json5==0.9.14\n",
      "jsonpointer==2.4\n",
      "jsonschema==4.18.4\n",
      "jsonschema-specifications==2023.7.1\n",
      "jupyter-console==6.6.3\n",
      "jupyter-contrib-core==0.4.2\n",
      "jupyter-contrib-nbextensions==0.7.0\n",
      "jupyter-events==0.6.3\n",
      "jupyter-highlight-selected-word==0.2.0\n",
      "jupyter-lsp==2.2.0\n",
      "jupyter-nbextensions-configurator==0.6.3\n",
      "jupyter_client==8.3.0\n",
      "jupyter_core==5.3.1\n",
      "jupyter_server==2.7.0\n",
      "jupyter_server_terminals==0.4.4\n",
      "jupyterlab==4.0.3\n",
      "jupyterlab-pygments==0.2.2\n",
      "jupyterlab-widgets==3.0.8\n",
      "jupyterlab_server==2.24.0\n",
      "kiwisolver==1.4.5\n",
      "langcodes==3.3.0\n",
      "lxml==4.9.3\n",
      "markdown-it-py==3.0.0\n",
      "MarkupSafe==2.1.3\n",
      "matplotlib==3.8.0\n",
      "matplotlib-inline==0.1.6\n",
      "mdurl==0.1.2\n",
      "mistune==3.0.1\n",
      "mpmath==1.3.0\n",
      "murmurhash==1.0.10\n",
      "mysql-connector-python==8.1.0\n",
      "nbclient==0.8.0\n",
      "nbconvert==7.7.3\n",
      "nbformat==5.9.1\n",
      "nest-asyncio==1.5.6\n",
      "networkx==3.1\n",
      "notebook==7.0.0\n",
      "notebook_shim==0.2.3\n",
      "numexpr==2.8.6\n",
      "numpy==1.25.1\n",
      "overrides==7.3.1\n",
      "packaging==23.1\n",
      "pandas==2.0.3\n",
      "pandastable==0.13.1\n",
      "pandocfilters==1.5.0\n",
      "parso==0.8.3\n",
      "passlib==1.7.4\n",
      "pathy==0.10.2\n",
      "pefile==2023.2.7\n",
      "pickleshare==0.7.5\n",
      "Pillow==9.5.0\n",
      "platformdirs==3.9.1\n",
      "plotly==5.17.0\n",
      "preshed==3.0.9\n",
      "prometheus-client==0.17.1\n",
      "prompt-toolkit==3.0.39\n",
      "protobuf==4.21.12\n",
      "psutil==5.9.5\n",
      "pure-eval==0.2.2\n",
      "pyarrow==13.0.0\n",
      "pycparser==2.21\n",
      "pydantic==2.3.0\n",
      "pydantic_core==2.6.3\n",
      "pydeck==0.8.0\n",
      "Pygments==2.15.1\n",
      "pyinstaller==5.13.2\n",
      "pyinstaller-hooks-contrib==2023.8\n",
      "Pympler==1.0.1\n",
      "pyparsing==3.1.1\n",
      "python-dateutil==2.8.2\n",
      "python-json-logger==2.0.7\n",
      "pytz==2023.3\n",
      "pytz-deprecation-shim==0.1.0.post0\n",
      "pywin32==306\n",
      "pywin32-ctypes==0.2.2\n",
      "pywinpty==2.0.11\n",
      "PyYAML==6.0.1\n",
      "pyzmq==25.1.0\n",
      "qtconsole==5.4.3\n",
      "QtPy==2.3.1\n",
      "referencing==0.30.0\n",
      "regex==2023.8.8\n",
      "requests==2.31.0\n",
      "rfc3339-validator==0.1.4\n",
      "rfc3986-validator==0.1.1\n",
      "rich==13.5.2\n",
      "rpds-py==0.9.2\n",
      "safetensors==0.3.3\n",
      "scikit-learn==1.3.1\n",
      "scipy==1.11.2\n",
      "Send2Trash==1.8.2\n",
      "six==1.16.0\n",
      "smart-open==6.4.0\n",
      "smmap==5.0.0\n",
      "sniffio==1.3.0\n",
      "soupsieve==2.4.1\n",
      "spacy==3.6.1\n",
      "spacy-alignments==0.9.0\n",
      "spacy-legacy==3.0.12\n",
      "spacy-loggers==1.0.5\n",
      "spacy-transformers==1.2.5\n",
      "srsly==2.4.8\n",
      "stack-data==0.6.2\n",
      "streamlit==1.26.0\n",
      "sympy==1.12\n",
      "tenacity==8.2.3\n",
      "terminado==0.17.1\n",
      "thinc==8.1.12\n",
      "threadpoolctl==3.2.0\n",
      "tinycss2==1.2.1\n",
      "tk==0.1.0\n",
      "tokenizers==0.13.3\n",
      "toml==0.10.2\n",
      "toolz==0.12.0\n",
      "torch==2.0.1\n",
      "tornado==6.3.2\n",
      "tqdm==4.66.1\n",
      "traitlets==5.9.0\n",
      "transformers==4.30.2\n",
      "typer==0.9.0\n",
      "typing_extensions==4.7.1\n",
      "tzdata==2023.3\n",
      "tzlocal==4.3.1\n",
      "uri-template==1.3.0\n",
      "urllib3==2.0.4\n",
      "validators==0.22.0\n",
      "wasabi==1.1.2\n",
      "watchdog==3.0.0\n",
      "wcwidth==0.2.6\n",
      "webcolors==1.13\n",
      "webencodings==0.5.1\n",
      "websocket-client==1.6.1\n",
      "Werkzeug==2.3.7\n",
      "widgetsnbextension==4.0.8\n",
      "xlrd==2.0.1\n",
      "zipp==3.16.2\n"
     ]
    },
    {
     "name": "stderr",
     "output_type": "stream",
     "text": [
      "WARNING: Ignoring invalid distribution ~upy-cuda12x (C:\\Users\\domin\\AppData\\Local\\Programs\\Python\\Python311\\Lib\\site-packages)\n"
     ]
    }
   ],
   "source": [
    "!pip freeze"
   ]
  },
  {
   "cell_type": "code",
   "execution_count": 7,
   "metadata": {},
   "outputs": [
    {
     "name": "stdout",
     "output_type": "stream",
     "text": [
      "Collecting cupy\n",
      "  Using cached cupy-12.2.0.tar.gz (2.0 MB)\n",
      "  Installing build dependencies: started\n",
      "  Installing build dependencies: finished with status 'done'\n",
      "  Getting requirements to build wheel: started\n",
      "  Getting requirements to build wheel: finished with status 'done'\n",
      "  Installing backend dependencies: started\n",
      "  Installing backend dependencies: finished with status 'done'\n",
      "  Preparing metadata (pyproject.toml): started\n",
      "  Preparing metadata (pyproject.toml): finished with status 'error'\n",
      "Note: you may need to restart the kernel to use updated packages.\n"
     ]
    },
    {
     "name": "stderr",
     "output_type": "stream",
     "text": [
      "  error: subprocess-exited-with-error\n",
      "  \n",
      "  × Preparing metadata (pyproject.toml) did not run successfully.\n",
      "  │ exit code: 1\n",
      "  ╰─> [67 lines of output]\n",
      "      Clearing directory: C:\\Users\\domin\\AppData\\Local\\Temp\\pip-install-wk4pnap4\\cupy_c32cd5dd206043859ce07d759a83f313\\cupy\\.data\n",
      "      Looking for NVTX: C:\\Program Files\\NVIDIA Corporation\\Nsight Systems *\\target-windows-x64\\nvtx\n",
      "      Using NVTX at: C:\\Program Files\\NVIDIA Corporation\\Nsight Systems 2023.2.3\\target-windows-x64\\nvtx\n",
      "      \n",
      "      -------- Configuring Module: cuda --------\n",
      "      Microsoft Visual C++ 14.0 or greater is required. Get it with \"Microsoft C++ Build Tools\": https://visualstudio.microsoft.com/visual-cpp-build-tools/\n",
      "      **************************************************\n",
      "      *** WARNING: Cannot check compute capability\n",
      "      Microsoft Visual C++ 14.0 or greater is required. Get it with \"Microsoft C++ Build Tools\": https://visualstudio.microsoft.com/visual-cpp-build-tools/\n",
      "      **************************************************\n",
      "      \n",
      "      ************************************************************\n",
      "      * CuPy Configuration Summary                               *\n",
      "      ************************************************************\n",
      "      \n",
      "      Build Environment:\n",
      "        Include directories: ['C:\\\\Program Files\\\\NVIDIA GPU Computing Toolkit\\\\CUDA\\\\v12.2\\\\include\\\\cub', 'C:\\\\Users\\\\domin\\\\AppData\\\\Local\\\\Temp\\\\pip-install-wk4pnap4\\\\cupy_c32cd5dd206043859ce07d759a83f313\\\\cupy/_core/include', 'C:\\\\Program Files\\\\NVIDIA GPU Computing Toolkit\\\\CUDA\\\\v12.2\\\\include', 'C:\\\\Program Files\\\\NVIDIA Corporation\\\\Nsight Systems 2023.2.3\\\\target-windows-x64\\\\nvtx\\\\include']\n",
      "        Library directories: ['C:\\\\Program Files\\\\NVIDIA GPU Computing Toolkit\\\\CUDA\\\\v12.2\\\\bin', 'C:\\\\Program Files\\\\NVIDIA GPU Computing Toolkit\\\\CUDA\\\\v12.2\\\\lib\\\\x64']\n",
      "        nvcc command       : ['C:\\\\Program Files\\\\NVIDIA GPU Computing Toolkit\\\\CUDA\\\\v12.2\\\\bin/nvcc.exe']\n",
      "        hipcc command      : (not found)\n",
      "      \n",
      "      Environment Variables:\n",
      "        CFLAGS          : (none)\n",
      "        LDFLAGS         : (none)\n",
      "        LIBRARY_PATH    : (none)\n",
      "        CUDA_PATH       : C:\\Program Files\\NVIDIA GPU Computing Toolkit\\CUDA\\v12.2\n",
      "        NVCC            : (none)\n",
      "        HIPCC           : (none)\n",
      "        ROCM_HOME       : (none)\n",
      "      \n",
      "      Modules:\n",
      "        cuda      : No\n",
      "          -> Include files not found: ['cublas_v2.h', 'cuda.h', 'cuda_profiler_api.h', 'cuda_runtime.h', 'cufft.h', 'curand.h', 'cusparse.h', 'nvrtc.h']\n",
      "          -> Check your CFLAGS environment variable.\n",
      "      \n",
      "      ERROR: CUDA could not be found on your system.\n",
      "      \n",
      "      HINT: You are trying to build CuPy from source, which is NOT recommended for general use.\n",
      "            Please consider using binary packages instead.\n",
      "      \n",
      "      Please refer to the Installation Guide for details:\n",
      "      https://docs.cupy.dev/en/stable/install.html\n",
      "      \n",
      "      ************************************************************\n",
      "      \n",
      "      Traceback (most recent call last):\n",
      "        File \"c:\\Users\\domin\\AppData\\Local\\Programs\\Python\\Python311\\Lib\\site-packages\\pip\\_vendor\\pyproject_hooks\\_in_process\\_in_process.py\", line 353, in <module>\n",
      "          main()\n",
      "        File \"c:\\Users\\domin\\AppData\\Local\\Programs\\Python\\Python311\\Lib\\site-packages\\pip\\_vendor\\pyproject_hooks\\_in_process\\_in_process.py\", line 335, in main\n",
      "          json_out['return_val'] = hook(**hook_input['kwargs'])\n",
      "                                   ^^^^^^^^^^^^^^^^^^^^^^^^^^^^\n",
      "        File \"c:\\Users\\domin\\AppData\\Local\\Programs\\Python\\Python311\\Lib\\site-packages\\pip\\_vendor\\pyproject_hooks\\_in_process\\_in_process.py\", line 149, in prepare_metadata_for_build_wheel\n",
      "          return hook(metadata_directory, config_settings)\n",
      "                 ^^^^^^^^^^^^^^^^^^^^^^^^^^^^^^^^^^^^^^^^^\n",
      "        File \"C:\\Users\\domin\\AppData\\Local\\Temp\\pip-build-env-80xx87gb\\overlay\\Lib\\site-packages\\setuptools\\build_meta.py\", line 396, in prepare_metadata_for_build_wheel\n",
      "          self.run_setup()\n",
      "        File \"C:\\Users\\domin\\AppData\\Local\\Temp\\pip-build-env-80xx87gb\\overlay\\Lib\\site-packages\\setuptools\\build_meta.py\", line 507, in run_setup\n",
      "          super(_BuildMetaLegacyBackend, self).run_setup(setup_script=setup_script)\n",
      "        File \"C:\\Users\\domin\\AppData\\Local\\Temp\\pip-build-env-80xx87gb\\overlay\\Lib\\site-packages\\setuptools\\build_meta.py\", line 341, in run_setup\n",
      "          exec(code, locals())\n",
      "        File \"<string>\", line 88, in <module>\n",
      "        File \"C:\\Users\\domin\\AppData\\Local\\Temp\\pip-install-wk4pnap4\\cupy_c32cd5dd206043859ce07d759a83f313\\install\\cupy_builder\\cupy_setup_build.py\", line 449, in get_ext_modules\n",
      "          extensions = make_extensions(ctx, compiler, use_cython)\n",
      "                       ^^^^^^^^^^^^^^^^^^^^^^^^^^^^^^^^^^^^^^^^^^\n",
      "        File \"C:\\Users\\domin\\AppData\\Local\\Temp\\pip-install-wk4pnap4\\cupy_c32cd5dd206043859ce07d759a83f313\\install\\cupy_builder\\cupy_setup_build.py\", line 305, in make_extensions\n",
      "          raise Exception('Your CUDA environment is invalid. '\n",
      "      Exception: Your CUDA environment is invalid. Please check above error log.\n",
      "      [end of output]\n",
      "  \n",
      "  note: This error originates from a subprocess, and is likely not a problem with pip.\n",
      "error: metadata-generation-failed\n",
      "\n",
      "× Encountered error while generating package metadata.\n",
      "╰─> See above for output.\n",
      "\n",
      "note: This is an issue with the package mentioned above, not pip.\n",
      "hint: See above for details.\n"
     ]
    }
   ],
   "source": [
    "%pip install cupy"
   ]
  },
  {
   "cell_type": "code",
   "execution_count": 8,
   "metadata": {},
   "outputs": [
    {
     "name": "stdout",
     "output_type": "stream",
     "text": [
      "^C\n"
     ]
    }
   ],
   "source": [
    "!python -m spacy train CV-Parsing-Spacy3/data/training/config.cfg --output CV-Parsing-Spacy3/data/model_output --paths.train CV-Parsing-Spacy3/data/model_data/train_data.spacy --paths.dev CV-Parsing-Spacy3/data/model_data/test_data.spacy"
   ]
  },
  {
   "cell_type": "code",
   "execution_count": 27,
   "metadata": {},
   "outputs": [],
   "source": [
    "nlp = spacy.load(r\"E:\\Projects\\AI Based CV Analysis Using ML\\model_output\\model-best\")"
   ]
  },
  {
   "cell_type": "code",
   "execution_count": 29,
   "metadata": {},
   "outputs": [
    {
     "name": "stdout",
     "output_type": "stream",
     "text": [
      "+ years --- Years of Experience\n",
      "Microsoft --- Companies worked at\n"
     ]
    }
   ],
   "source": [
    "doc = nlp(\"10 years of Experience in Designing, Development, Administration, Analysis, Management inthe Business Intelligence Data warehousing, Client Server Technologies, Web-based Applications, cloud solutions and Databases. Data warehouse: Data analysis, star/ snow flake schema data modeling and design specific todata warehousing and business intelligence environment. Database: Experience in database designing, scalability, back-up and recovery, writing andoptimizing SQL code and Stored Procedures, creating functions, views, triggers and indexes. Cloud platform: Worked on Microsoft Azure cloud services like Document DB, SQL Azure, StreamAnalytics, Event hub, Power BI, Web Job, Web App, Power BI, Azure data lake analytics(U-SQL). Big Data: Worked Azure data lake store/analytics for big data processing and Azure data factoryto schedule U-SQL jobs. Designed and developed end to end big data solution for data insights.\")\n",
    "for ent in doc.ents:\n",
    "    print(ent.text, \"---\", ent.label_)"
   ]
  }
 ],
 "metadata": {
  "kernelspec": {
   "display_name": "Python 3",
   "language": "python",
   "name": "python3"
  },
  "language_info": {
   "codemirror_mode": {
    "name": "ipython",
    "version": 3
   },
   "file_extension": ".py",
   "mimetype": "text/x-python",
   "name": "python",
   "nbconvert_exporter": "python",
   "pygments_lexer": "ipython3",
   "version": "3.11.5"
  },
  "orig_nbformat": 4,
  "vscode": {
   "interpreter": {
    "hash": "48ec225062663513ae22d91f256f8f7625297c55a4f524abe8c1235bea13b03b"
   }
  }
 },
 "nbformat": 4,
 "nbformat_minor": 2
}
